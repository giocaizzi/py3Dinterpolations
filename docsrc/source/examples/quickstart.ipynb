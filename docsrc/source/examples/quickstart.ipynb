{
 "cells": [
  {
   "attachments": {},
   "cell_type": "markdown",
   "metadata": {},
   "source": [
    "# Quick start"
   ]
  },
  {
   "cell_type": "code",
   "execution_count": null,
   "metadata": {
    "execution": {
     "iopub.execute_input": "2023-07-22T23:30:12.032166Z",
     "iopub.status.busy": "2023-07-22T23:30:12.031594Z",
     "iopub.status.idle": "2023-07-22T23:30:13.123188Z",
     "shell.execute_reply": "2023-07-22T23:30:13.122445Z"
    }
   },
   "outputs": [],
   "source": [
    "import py3dinterpolations as p3i\n",
    "import pandas as pd"
   ]
  },
  {
   "attachments": {},
   "cell_type": "markdown",
   "metadata": {},
   "source": [
    "## `GridData`: core object optimized for grid data.\n",
    "\n",
    "The `GridData` object is the core object of the package. It is optimized for grid data, i.e. data that are defined on a grid (ie. X,Y,Z coordinates). \n",
    "\n",
    "GridData is optimized to handle large data sets. It is based on the `pandas` package and uses `pandas.DataFrame` as the underlying data structure.\n",
    "\n",
    "Column names could be either default [\"X\", \"Y\", \"Z\",\"V\"] or custom. In the latter case, the user must specify the column names in the function call."
   ]
  },
  {
   "cell_type": "code",
   "execution_count": null,
   "metadata": {
    "execution": {
     "iopub.execute_input": "2023-07-22T23:30:13.126945Z",
     "iopub.status.busy": "2023-07-22T23:30:13.126343Z",
     "iopub.status.idle": "2023-07-22T23:30:13.142960Z",
     "shell.execute_reply": "2023-07-22T23:30:13.142354Z"
    }
   },
   "outputs": [],
   "source": [
    "df = pd.read_csv(\n",
    "    \"../../../tests/fixtures/griddata_default_colnames.csv\"\n",
    ")\n",
    "df.tail()"
   ]
  },
  {
   "cell_type": "code",
   "execution_count": null,
   "metadata": {
    "execution": {
     "iopub.execute_input": "2023-07-22T23:30:13.145795Z",
     "iopub.status.busy": "2023-07-22T23:30:13.145387Z",
     "iopub.status.idle": "2023-07-22T23:30:13.166763Z",
     "shell.execute_reply": "2023-07-22T23:30:13.166028Z"
    }
   },
   "outputs": [],
   "source": [
    "gd = p3i.GridData(df)\n",
    "gd.data"
   ]
  },
  {
   "attachments": {},
   "cell_type": "markdown",
   "metadata": {},
   "source": [
    "## Interpolate\n",
    "\n",
    "Interpolate by calling the `interpolate` method, that:\n",
    "\n",
    "- Calulcates required 3d grid for prediction\n",
    "- Executes preprocessing\n",
    "- Fit the model\n",
    "- Executes interpolation \n",
    "\n",
    "The method by defaults returns only the a `np.ndarray` with the interpolated values.\n",
    "Optionally the model object can be returned as well, using the `return_model` argument."
   ]
  },
  {
   "cell_type": "code",
   "execution_count": null,
   "metadata": {
    "execution": {
     "iopub.execute_input": "2023-07-22T23:30:13.170259Z",
     "iopub.status.busy": "2023-07-22T23:30:13.170009Z",
     "iopub.status.idle": "2023-07-22T23:30:13.777699Z",
     "shell.execute_reply": "2023-07-22T23:30:13.776954Z"
    }
   },
   "outputs": [],
   "source": [
    "interpolated, model = p3i.interpolate(\n",
    "    gd,\n",
    "    model_name = \"ordinary_kriging\",\n",
    "    model_params = {\n",
    "        \"variogram_model\": \"spherical\",\n",
    "        \"nlags\": 15,\n",
    "        \"weight\": True,\n",
    "        \"exact_values\": False,\n",
    "        \"verbose\": True,\n",
    "        \"enable_plotting\": True,\n",
    "    },\n",
    "    grid_resolution=5,\n",
    "    preprocess_kwags={\n",
    "        \"normalize_xyz\": True,\n",
    "        \"standardize_v\": True,\n",
    "    },\n",
    "    return_model=True, # get all components, not only the resulting interpolated grid\n",
    ")"
   ]
  },
  {
   "cell_type": "markdown",
   "metadata": {},
   "source": [
    "## Visualization with Plotly and Matplotlib\n",
    "\n",
    "The package natively supports `matplotlib` and `plotly` for visualization.\n",
    "\n",
    "Plotly is preferred for 3D interactive visualization, while matplotlib is preferred for 2D visualization.\n",
    "\n",
    "Both methods features the possibility to plot the data points as well as the interpolated surface/volume."
   ]
  },
  {
   "cell_type": "code",
   "execution_count": null,
   "metadata": {},
   "outputs": [],
   "source": [
    "fig2 = p3i.plot_2d_model(\n",
    "    model,\n",
    "    axis=\"Z\",\n",
    "    plot_points=True,\n",
    "    annotate_points=True,\n",
    ")"
   ]
  },
  {
   "cell_type": "code",
   "execution_count": null,
   "metadata": {
    "execution": {
     "iopub.execute_input": "2023-07-22T23:30:13.802597Z",
     "iopub.status.busy": "2023-07-22T23:30:13.802281Z",
     "iopub.status.idle": "2023-07-22T23:30:13.877575Z",
     "shell.execute_reply": "2023-07-22T23:30:13.876902Z"
    }
   },
   "outputs": [],
   "source": [
    "import plotly.io as pio\n",
    "# This ensures Plotly output works in multiple places:\n",
    "# plotly_mimetype: VS Code notebook UI\n",
    "# notebook: \"Jupyter: Export to HTML\" command in VS Code\n",
    "# See https://plotly.com/python/renderers/#multiple-renderers\n",
    "pio.renderers.default = \"plotly_mimetype+notebook\""
   ]
  },
  {
   "cell_type": "code",
   "execution_count": null,
   "metadata": {
    "execution": {
     "iopub.execute_input": "2023-07-22T23:30:13.881728Z",
     "iopub.status.busy": "2023-07-22T23:30:13.881308Z",
     "iopub.status.idle": "2023-07-22T23:30:13.994370Z",
     "shell.execute_reply": "2023-07-22T23:30:13.993707Z"
    }
   },
   "outputs": [],
   "source": [
    "fig = p3i.plot_3d_model(\n",
    "    model,\n",
    "    plot_points=True,\n",
    "    scale_points=10,\n",
    "    volume_kwargs={\n",
    "        \"surface_count\": 10,\n",
    "    }\n",
    ")\n",
    "fig.show()"
   ]
  }
 ],
 "metadata": {
  "kernelspec": {
   "display_name": "aecom",
   "language": "python",
   "name": "python3"
  },
  "language_info": {
   "codemirror_mode": {
    "name": "ipython",
    "version": 3
   },
   "file_extension": ".py",
   "mimetype": "text/x-python",
   "name": "python",
   "nbconvert_exporter": "python",
   "pygments_lexer": "ipython3",
   "version": "3.10.12"
  }
 },
 "nbformat": 4,
 "nbformat_minor": 2
}
