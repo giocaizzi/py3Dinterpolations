{
 "cells": [
  {
   "attachments": {},
   "cell_type": "markdown",
   "metadata": {},
   "source": [
    "# Quick start"
   ]
  },
  {
   "cell_type": "code",
   "execution_count": null,
   "metadata": {
    "execution": {
     "iopub.execute_input": "2023-07-22T23:39:26.234387Z",
     "iopub.status.busy": "2023-07-22T23:39:26.233823Z",
     "iopub.status.idle": "2023-07-22T23:39:27.272887Z",
     "shell.execute_reply": "2023-07-22T23:39:27.272204Z"
    }
   },
   "outputs": [],
   "source": [
    "import py3dinterpolations as p3i\n",
    "import pandas as pd"
   ]
  },
  {
   "attachments": {},
   "cell_type": "markdown",
   "metadata": {},
   "source": [
    "## `GridData`: core object optimized for grid data.\n",
    "\n",
    "The `GridData` object is the core object of the package. It is optimized for grid data, i.e. data that are defined on a grid (ie. X,Y,Z coordinates). \n",
    "\n",
    "GridData is optimized to handle large data sets. It is based on the `pandas` package and uses `pandas.DataFrame` as the underlying data structure.\n",
    "\n",
    "Column names could be either default [\"X\", \"Y\", \"Z\",\"V\"] or custom. In the latter case, the user must specify the column names in the function call."
   ]
  },
  {
   "cell_type": "code",
   "execution_count": null,
   "metadata": {
    "execution": {
     "iopub.execute_input": "2023-07-22T23:39:27.277894Z",
     "iopub.status.busy": "2023-07-22T23:39:27.276318Z",
     "iopub.status.idle": "2023-07-22T23:39:27.294219Z",
     "shell.execute_reply": "2023-07-22T23:39:27.293624Z"
    }
   },
   "outputs": [],
   "source": [
    "df = pd.read_csv(\n",
    "    \"../../../tests/fixtures/griddata_default_colnames.csv\"\n",
    ")\n",
    "df.tail()"
   ]
  },
  {
   "cell_type": "code",
   "execution_count": null,
   "metadata": {
    "execution": {
     "iopub.execute_input": "2023-07-22T23:39:27.298195Z",
     "iopub.status.busy": "2023-07-22T23:39:27.296924Z",
     "iopub.status.idle": "2023-07-22T23:39:27.319790Z",
     "shell.execute_reply": "2023-07-22T23:39:27.319170Z"
    }
   },
   "outputs": [],
   "source": [
    "gd = p3i.GridData(df)\n",
    "gd.data"
   ]
  },
  {
   "attachments": {},
   "cell_type": "markdown",
   "metadata": {},
   "source": [
    "## Interpolate\n",
    "\n",
    "Interpolate by calling the `interpolate` method, that:\n",
    "\n",
    "- Calulcates required 3d grid for prediction\n",
    "- Executes preprocessing\n",
    "- Fit the model\n",
    "- Executes interpolation \n",
    "\n",
    "The method by defaults returns only the a `np.ndarray` with the interpolated values.\n",
    "Optionally the model object can be returned as well, using the `return_model` argument."
   ]
  },
  {
   "cell_type": "code",
   "execution_count": null,
   "metadata": {
    "execution": {
     "iopub.execute_input": "2023-07-22T23:39:27.323320Z",
     "iopub.status.busy": "2023-07-22T23:39:27.322819Z",
     "iopub.status.idle": "2023-07-22T23:39:27.914762Z",
     "shell.execute_reply": "2023-07-22T23:39:27.914128Z"
    }
   },
   "outputs": [],
   "source": [
    "interpolated, model = p3i.interpolate(\n",
    "    gd,\n",
    "    model_name = \"ordinary_kriging\",\n",
    "    model_params = {\n",
    "        \"variogram_model\": \"spherical\",\n",
    "        \"nlags\": 15,\n",
    "        \"weight\": True,\n",
    "        \"exact_values\": False,\n",
    "        \"verbose\": True,\n",
    "        \"enable_plotting\": True,\n",
    "    },\n",
    "    grid_resolution=5,xwxw\n",
    "    preprocess_kwags={\n",
    "        \"normalize_xyz\": True,\n",
    "        \"standardize_v\": True,\n",
    "    },\n",
    "    return_model=True, # get all components, not only the resulting interpolated grid\n",
    ")"
   ]
  },
  {
   "cell_type": "markdown",
   "metadata": {},
   "source": [
    "## Visualization with Plotly and Matplotlib\n",
    "\n",
    "The package natively supports `matplotlib` and `plotly` for visualization.\n",
    "\n",
    "Plotly is preferred for 3D interactive visualization, while matplotlib is preferred for 2D visualization.\n",
    "\n",
    "Both methods features the possibility to plot the data points as well as the interpolated surface/volume."
   ]
  },
  {
   "cell_type": "code",
   "execution_count": null,
   "metadata": {
    "execution": {
     "iopub.execute_input": "2023-07-22T23:39:27.919355Z",
     "iopub.status.busy": "2023-07-22T23:39:27.917918Z",
     "iopub.status.idle": "2023-07-22T23:39:29.815797Z",
     "shell.execute_reply": "2023-07-22T23:39:29.815121Z"
    }
   },
   "outputs": [],
   "source": [
    "%matplotlib inline\n",
    "import matplotlib.pyplot as plt\n",
    "\n",
    "fig2 = p3i.plot_2d_model(\n",
    "    model,\n",
    "    axis=\"Z\",\n",
    "    plot_points=True,\n",
    "    annotate_points=True,\n",
    ")"
   ]
  },
  {
   "cell_type": "code",
   "execution_count": null,
   "metadata": {
    "execution": {
     "iopub.execute_input": "2023-07-22T23:39:29.819252Z",
     "iopub.status.busy": "2023-07-22T23:39:29.818878Z",
     "iopub.status.idle": "2023-07-22T23:39:29.892284Z",
     "shell.execute_reply": "2023-07-22T23:39:29.891288Z"
    }
   },
   "outputs": [],
   "source": [
    "import plotly.io as pio\n",
    "# This ensures Plotly output works in multiple places:\n",
    "# plotly_mimetype: VS Code notebook UI\n",
    "# notebook: \"Jupyter: Export to HTML\" command in VS Code\n",
    "# See https://plotly.com/python/renderers/#multiple-renderers\n",
    "pio.renderers.default = \"plotly_mimetype+notebook\""
   ]
  },
  {
   "cell_type": "code",
   "execution_count": null,
   "metadata": {
    "execution": {
     "iopub.execute_input": "2023-07-22T23:39:29.895698Z",
     "iopub.status.busy": "2023-07-22T23:39:29.895093Z",
     "iopub.status.idle": "2023-07-22T23:39:30.001922Z",
     "shell.execute_reply": "2023-07-22T23:39:30.001356Z"
    }
   },
   "outputs": [],
   "source": [
    "fig = p3i.plot_3d_model(\n",
    "    model,\n",
    "    plot_points=True,\n",
    "    scale_points=10,\n",
    "    volume_kwargs={\n",
    "        \"surface_count\": 10,\n",
    "    }\n",
    ")\n",
    "fig.show()"
   ]
  }
 ],
 "metadata": {
  "kernelspec": {
   "display_name": "aecom",
   "language": "python",
   "name": "python3"
  },
  "language_info": {
   "codemirror_mode": {
    "name": "ipython",
    "version": 3
   },
   "file_extension": ".py",
   "mimetype": "text/x-python",
   "name": "python",
   "nbconvert_exporter": "python",
   "pygments_lexer": "ipython3",
   "version": "3.10.12"
  }
 },
 "nbformat": 4,
 "nbformat_minor": 2
}
